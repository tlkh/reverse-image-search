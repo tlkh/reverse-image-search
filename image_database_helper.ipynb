{
 "cells": [
  {
   "cell_type": "code",
   "execution_count": 1,
   "metadata": {},
   "outputs": [],
   "source": [
    "# this notebook shall only define functions (and maybe classes)"
   ]
  },
  {
   "cell_type": "code",
   "execution_count": 2,
   "metadata": {},
   "outputs": [],
   "source": [
    "# make a Python list of the files in the directory\n",
    "# https://stackoverflow.com/questions/3207219/how-do-i-list-all-files-of-a-directory\n",
    "import os\n",
    "def findfiles(directory):\n",
    "    objects = os.listdir(directory)  # find all objects in a dir\n",
    "\n",
    "    files = []\n",
    "    for i in objects:  # check if very object in the folder ...\n",
    "        if isFile(directory + i):  # ... is a file.\n",
    "            files.append(i)  # if yes, append it.\n",
    "    return files\n",
    "\n",
    "def isFile(object):\n",
    "    try:\n",
    "        os.listdir(object)  # tries to get the objects inside of this object\n",
    "        return False  # if it worked, it's a folder\n",
    "    except Exception:  # if not, it's a file\n",
    "        return True"
   ]
  },
  {
   "cell_type": "code",
   "execution_count": 3,
   "metadata": {},
   "outputs": [
    {
     "name": "stderr",
     "output_type": "stream",
     "text": [
      "Using TensorFlow backend.\n"
     ]
    }
   ],
   "source": [
    "# processing images into a feature vector\n",
    "from keras.preprocessing import image\n",
    "from keras.applications.resnet50 import ResNet50\n",
    "from keras.applications.resnet50 import preprocess_input, decode_predictions\n",
    "import numpy as np\n",
    "from sklearn.preprocessing import normalize # lol why numpy don't have normalize\n",
    "\n",
    "# processing images (given image path) into a feature vector\n",
    "def calc_feature_vector(model, img_path, fromarray = False):\n",
    "    img = image.load_img(img_path,target_size=(224, 224))\n",
    "    x = image.img_to_array(img)\n",
    "    x = np.expand_dims(x, axis=0)\n",
    "    x = preprocess_input(x)\n",
    "    return normalize(model.predict(x))[0]"
   ]
  },
  {
   "cell_type": "code",
   "execution_count": 4,
   "metadata": {},
   "outputs": [],
   "source": [
    "import numpy\n",
    "from keras.models import Model\n",
    "from keras.layers import Dense,Flatten\n",
    "from keras.applications import vgg16\n",
    "from keras import backend as K\n",
    "\n",
    "def init_model():\n",
    "    model = vgg16.VGG16(weights='imagenet', include_top=True)\n",
    "\n",
    "    model.layers.pop()\n",
    "    model.layers.pop()\n",
    "\n",
    "    new_layer = Dense(10, activation='softmax', name='my_dense')\n",
    "\n",
    "    inp = model.input\n",
    "    out = new_layer(model.layers[-1].output)\n",
    "\n",
    "    # model2 = Model(inp, out)\n",
    "    \n",
    "    return model"
   ]
  },
  {
   "cell_type": "code",
   "execution_count": 5,
   "metadata": {},
   "outputs": [],
   "source": [
    "def get_bounding_boxes(img):\n",
    "    gray = cv2.cvtColor(img, cv2.COLOR_BGR2GRAY)\n",
    "    \n",
    "    cp_height, cp_breath = np.shape(gray)\n",
    "    ret,thresh = cv2.threshold(gray,225,255,cv2.THRESH_BINARY_INV)\n",
    "\n",
    "    im2, contours, hierarchy = cv2.findContours(thresh,cv2.RETR_TREE,cv2.CHAIN_APPROX_SIMPLE)\n",
    "    \n",
    "    #     img_ann = img\n",
    "    output_boxes = []\n",
    "    \n",
    "    for contour in contours:\n",
    "        x,y,w,h = cv2.boundingRect(contour)\n",
    "        if w > cp_height/2.5 and h > cp_breath/2.5:\n",
    "    #       cv2.rectangle(img_ann,(x,y),(x+w,y+h),(0,0,255),3)\n",
    "            output_boxes.append([x,y,w,h])\n",
    "    if output_boxes == []:\n",
    "        output_boxes.append([0,0,cp_breath,cp_height])\n",
    "    return output_boxes"
   ]
  },
  {
   "cell_type": "code",
   "execution_count": 3,
   "metadata": {},
   "outputs": [],
   "source": [
    "import subprocess\n",
    "import csv\n",
    "from matplotlib.pyplot import imshow\n",
    "from PIL import Image\n",
    "import matplotlib.pyplot as plt\n",
    "import cv2\n",
    "\n",
    "def analyse_image(model, path_image_to_analyse, img=None, plotting=False):\n",
    "    '''\n",
    "    path_image_to_analyse is the local relative path\n",
    "    '''\n",
    "    if img == None:\n",
    "        img = cv2.imread(path_image_to_analyse)\n",
    "    \n",
    "    output_boxes = get_bounding_boxes(img)\n",
    "    \n",
    "    result = []\n",
    "    \n",
    "    if plotting:\n",
    "        print(\"============ FRAME ANALYSED =============\")\n",
    "        imshow(img)\n",
    "        plt.axis(\"off\")\n",
    "        plt.show()\n",
    "        print(\"----------- NEAREST PICTURES ------------\")\n",
    "\n",
    "    for i, box in enumerate(output_boxes):\n",
    "        [x,y,w,h] = box\n",
    "        output_img = np.array(img[y:y+h, x:x+w])\n",
    "        cv2.imwrite(\"temp.jpg\",output_img)\n",
    "        imgsearch = calc_feature_vector(model, \"temp.jpg\")\n",
    "\n",
    "        match = [imgsearch.dot(fv) for fv in feature_vectors]\n",
    "        top4 = np.argpartition(match,np.arange(-4,0,1))[-4:][::-1]\n",
    "        print(top4)\n",
    "        \n",
    "    for pic in top4:\n",
    "        print(pic)\n",
    "        print(\"percentage match: {}\".format(match[pic]))\n",
    "        result.append([match[pic], pic])\n",
    "        \n",
    "        if plotting:\n",
    "            imshow(np.asarray(Image.open('database/' + df['img_file_name'][pic], 'r')))\n",
    "            plt.axis(\"off\")\n",
    "            plt.show()\n",
    "        \n",
    "        \n",
    "    print(\"\\n\\n\\n\\n\\n\\n\\n\\n\\n\\n\")\n",
    "    \n",
    "    return result"
   ]
  },
  {
   "cell_type": "code",
   "execution_count": null,
   "metadata": {},
   "outputs": [],
   "source": []
  }
 ],
 "metadata": {
  "kernelspec": {
   "display_name": "Python 3",
   "language": "python",
   "name": "python3"
  },
  "language_info": {
   "codemirror_mode": {
    "name": "ipython",
    "version": 3
   },
   "file_extension": ".py",
   "mimetype": "text/x-python",
   "name": "python",
   "nbconvert_exporter": "python",
   "pygments_lexer": "ipython3",
   "version": "3.5.2"
  }
 },
 "nbformat": 4,
 "nbformat_minor": 2
}
